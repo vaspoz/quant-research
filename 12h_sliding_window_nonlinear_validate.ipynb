{
 "cells": [
  {
   "cell_type": "code",
   "execution_count": 6,
   "id": "a2d12d68",
   "metadata": {},
   "outputs": [],
   "source": [
    "import polars as pl\n",
    "import numpy as np                          # Numerical computing library\n",
    "from datetime import datetime, timedelta    # Date and time operations\n",
    "from tqdm import tqdm                       # Progress bar\n",
    "import torch                                # PyTorch framework\n",
    "import torch.nn as nn                       # Neural network modules\n",
    "import research                             # Model building and training utilities\n",
    "import binance                              \n",
    "\n",
    "##################################################\n",
    "# Configuration\n",
    "################################################## \n",
    "pl.Config.set_tbl_width_chars(200)\n",
    "pl.Config.set_fmt_str_lengths(100)\n",
    "pl.Config.set_tbl_cols(-1)\n",
    "\n",
    "sym = 'BTCUSDT'\n",
    "time_interval = '12h'\n",
    "max_lags= 4\n",
    "forecast_horizon = 1\n",
    "\n",
    "features = ['close_log_return_lag_1','close_log_return_lag_2','close_log_return_lag_3']\n",
    "target = 'close_log_return'\n",
    "maker_fee = binance.MAKER_FEE\n",
    "taker_fee = binance.TAKER_FEE\n",
    "\n",
    "validation_start_date = datetime(2024, 10, 1, 0, 0)\n",
    "validation_end_date = datetime(2025, 10, 1, 0, 0)\n"
   ]
  },
  {
   "cell_type": "code",
   "execution_count": 7,
   "id": "7ad0a06b",
   "metadata": {},
   "outputs": [],
   "source": [
    "class NonLinearModel(nn.Module):\n",
    "    def __init__(self, input_features, hidden_size=64):\n",
    "        super(NonLinearModel, self).__init__()\n",
    "        self.network = nn.Sequential(\n",
    "            nn.Linear(input_features, hidden_size),\n",
    "            nn.ReLU(),  # Non-linear activation\n",
    "            nn.Linear(hidden_size , 1)  # Output layer\n",
    "        )\n",
    "    \n",
    "    def forward(self, x):\n",
    "        return self.network(x)"
   ]
  },
  {
   "cell_type": "code",
   "execution_count": 8,
   "id": "35b15f9d",
   "metadata": {},
   "outputs": [
    {
     "name": "stderr",
     "output_type": "stream",
     "text": [
      "Loading BTCUSDT: 100%|██████████| 731/731 [00:45<00:00, 16.00day/s]"
     ]
    },
    {
     "name": "stdout",
     "output_type": "stream",
     "text": [
      "Loaded 1457 rows from 2023-10-02 00:00:00 to 2025-10-01 00:00:00\n"
     ]
    },
    {
     "name": "stderr",
     "output_type": "stream",
     "text": [
      "\n"
     ]
    }
   ],
   "source": [
    "step_size_hours = 12  # Retrain every 12 hours (match time_interval)\n",
    "\n",
    "# Load all data once (training window + validation period)\n",
    "all_data_start = validation_start_date - timedelta(days=365)\n",
    "all_data_end = validation_end_date  # Full validation period # For testing, replace with the next line\n",
    "# all_data_end = validation_start_date + timedelta(hours=12 * 10) # Test just for first several iterations\n",
    "\n",
    "ts_all = research.load_ohlc_timeseries_range(\n",
    "    sym, \n",
    "    time_interval, \n",
    "    start_date=all_data_start, \n",
    "    end_date=all_data_end\n",
    ")\n",
    "ts_all = research.add_log_return_features(ts_all, 'close', forecast_horizon, max_no_lags=max_lags)\n",
    "ts_all = ts_all.drop_nulls()\n",
    "\n",
    "print(f\"Loaded {len(ts_all)} rows from {all_data_start} to {all_data_end}\")\n"
   ]
  },
  {
   "cell_type": "code",
   "execution_count": 9,
   "id": "1a78d474",
   "metadata": {},
   "outputs": [
    {
     "name": "stderr",
     "output_type": "stream",
     "text": [
      "Training & Validating:   1%|▏         | 10/730 [04:01<4:49:18, 24.11s/iteration, date=2024-10-06, predictions=10]\n",
      "Training & Validating: 100%|██████████| 730/730 [3:25:16<00:00, 16.87s/iteration, date=2025-10-01, predictions=730]  \n"
     ]
    }
   ],
   "source": [
    "predictions = []\n",
    "actuals = []\n",
    "timestamps = []\n",
    "\n",
    "# Iterate through validation period with sliding window\n",
    "current_date = validation_start_date\n",
    "iteration_count = 0\n",
    "\n",
    "# Calculate total iterations and create progress bar\n",
    "total_iterations = int((all_data_end - validation_start_date).total_seconds() / (step_size_hours * 3600))\n",
    "pbar = tqdm(total=total_iterations, desc=\"Training & Validating\", unit=\"iteration\")\n",
    "\n",
    "def retrain_model(ts_train):\n",
    "    model = NonLinearModel(len(features))\n",
    "    research.learn_model_trades(\n",
    "        ts_train, \n",
    "        features, \n",
    "        target, \n",
    "        model, \n",
    "        test_size=0.01,  # Minimal test split since we're validating separately\n",
    "        loss=nn.L1Loss(),\n",
    "        no_epochs=5000,\n",
    "        log=False\n",
    "    )\n",
    "    return model\n",
    "\n",
    "\n",
    "while current_date < all_data_end:\n",
    "    iteration_count += 1\n",
    "    # Define training sliding window\n",
    "    train_start = current_date - timedelta(days=365)\n",
    "    train_end = current_date\n",
    "    \n",
    "    # Slice training data from pre-loaded timeseries\n",
    "    ts_train = ts_all.filter(\n",
    "        (pl.col('datetime') >= train_start) & \n",
    "        (pl.col('datetime') < train_end)\n",
    "    )\n",
    "    \n",
    "    model = retrain_model(ts_train)\n",
    "\n",
    "    # Make prediction for next time step from pre-loaded data (ts_point is a single-row DataFrame)\n",
    "    ts_point = ts_all.filter(pl.col('datetime') == current_date)\n",
    "\n",
    "    X_pred = torch.tensor(ts_point[features].to_numpy(), dtype=torch.float32)\n",
    "    \n",
    "    model.eval()\n",
    "    with torch.no_grad():\n",
    "        y_hat = model(X_pred)\n",
    "    \n",
    "    # These we will use to build up the dataframe of results\n",
    "    predictions.append(y_hat.item())\n",
    "    actuals.append(ts_point[target].item())\n",
    "    timestamps.append(current_date)\n",
    "    \n",
    "    # Move window forward\n",
    "    current_date += timedelta(hours=step_size_hours)\n",
    "    \n",
    "    # Update progress bar\n",
    "    pbar.update(1)\n",
    "    pbar.set_postfix({\n",
    "        'date': current_date.strftime('%Y-%m-%d'),\n",
    "        'predictions': len(predictions)\n",
    "    })\n",
    "\n",
    "pbar.close()"
   ]
  },
  {
   "cell_type": "code",
   "execution_count": 14,
   "id": "3e856ae1",
   "metadata": {},
   "outputs": [],
   "source": [
    "# Create results DataFrame with trade metrics\n",
    "validation_results = pl.DataFrame({\n",
    "    'timestamp': timestamps,\n",
    "    'y': actuals,\n",
    "    'y_hat': predictions\n",
    "}).with_columns(\n",
    "    (pl.col('y_hat').sign()==pl.col('y').sign()).alias('is_won'),\n",
    "    pl.col('y_hat').sign().alias('signal'),\n",
    ").with_columns(\n",
    "    (pl.col('signal') * pl.col('y')).alias('trade_log_return')\n",
    ").with_columns(\n",
    "    pl.col('trade_log_return').cum_sum().alias('equity_curve')\n",
    ")\n",
    "\n",
    "# Add transaction fees\n",
    "validation_results = research.add_tx_fees_log(validation_results, maker_fee, taker_fee)"
   ]
  },
  {
   "cell_type": "code",
   "execution_count": 15,
   "id": "be246f4b",
   "metadata": {},
   "outputs": [
    {
     "data": {
      "text/html": [
       "\n",
       "<style>\n",
       "  #altair-viz-2364d4464f1645f39bf89ce6dca20569.vega-embed {\n",
       "    width: 100%;\n",
       "    display: flex;\n",
       "  }\n",
       "\n",
       "  #altair-viz-2364d4464f1645f39bf89ce6dca20569.vega-embed details,\n",
       "  #altair-viz-2364d4464f1645f39bf89ce6dca20569.vega-embed details summary {\n",
       "    position: relative;\n",
       "  }\n",
       "</style>\n",
       "<div id=\"altair-viz-2364d4464f1645f39bf89ce6dca20569\"></div>\n",
       "<script type=\"text/javascript\">\n",
       "  var VEGA_DEBUG = (typeof VEGA_DEBUG == \"undefined\") ? {} : VEGA_DEBUG;\n",
       "  (function(spec, embedOpt){\n",
       "    let outputDiv = document.currentScript.previousElementSibling;\n",
       "    if (outputDiv.id !== \"altair-viz-2364d4464f1645f39bf89ce6dca20569\") {\n",
       "      outputDiv = document.getElementById(\"altair-viz-2364d4464f1645f39bf89ce6dca20569\");\n",
       "    }\n",
       "\n",
       "    const paths = {\n",
       "      \"vega\": \"https://cdn.jsdelivr.net/npm/vega@5?noext\",\n",
       "      \"vega-lib\": \"https://cdn.jsdelivr.net/npm/vega-lib?noext\",\n",
       "      \"vega-lite\": \"https://cdn.jsdelivr.net/npm/vega-lite@5.20.1?noext\",\n",
       "      \"vega-embed\": \"https://cdn.jsdelivr.net/npm/vega-embed@6?noext\",\n",
       "    };\n",
       "\n",
       "    function maybeLoadScript(lib, version) {\n",
       "      var key = `${lib.replace(\"-\", \"\")}_version`;\n",
       "      return (VEGA_DEBUG[key] == version) ?\n",
       "        Promise.resolve(paths[lib]) :\n",
       "        new Promise(function(resolve, reject) {\n",
       "          var s = document.createElement('script');\n",
       "          document.getElementsByTagName(\"head\")[0].appendChild(s);\n",
       "          s.async = true;\n",
       "          s.onload = () => {\n",
       "            VEGA_DEBUG[key] = version;\n",
       "            return resolve(paths[lib]);\n",
       "          };\n",
       "          s.onerror = () => reject(`Error loading script: ${paths[lib]}`);\n",
       "          s.src = paths[lib];\n",
       "        });\n",
       "    }\n",
       "\n",
       "    function showError(err) {\n",
       "      outputDiv.innerHTML = `<div class=\"error\" style=\"color:red;\">${err}</div>`;\n",
       "      throw err;\n",
       "    }\n",
       "\n",
       "    function displayChart(vegaEmbed) {\n",
       "      vegaEmbed(outputDiv, spec, embedOpt)\n",
       "        .catch(err => showError(`Javascript Error: ${err.message}<br>This usually means there's a typo in your chart specification. See the javascript console for the full traceback.`));\n",
       "    }\n",
       "\n",
       "    if(typeof define === \"function\" && define.amd) {\n",
       "      requirejs.config({paths});\n",
       "      let deps = [\"vega-embed\"];\n",
       "      require(deps, displayChart, err => showError(`Error loading script: ${err.message}`));\n",
       "    } else {\n",
       "      maybeLoadScript(\"vega\", \"5\")\n",
       "        .then(() => maybeLoadScript(\"vega-lite\", \"5.20.1\"))\n",
       "        .then(() => maybeLoadScript(\"vega-embed\", \"6\"))\n",
       "        .catch(showError)\n",
       "        .then(() => displayChart(vegaEmbed));\n",
       "    }\n",
       "  })({\"config\": {\"view\": {\"continuousWidth\": 300, \"continuousHeight\": 300}}, \"data\": {\"name\": \"data-5f47aa8f59410fce2a816d60cace8f70\"}, \"mark\": {\"type\": \"line\", \"tooltip\": true}, \"encoding\": {\"x\": {\"field\": \"index\", \"type\": \"quantitative\"}, \"y\": {\"field\": \"equity_curve\", \"type\": \"quantitative\"}}, \"height\": 400, \"params\": [{\"name\": \"param_4\", \"select\": {\"type\": \"interval\", \"encodings\": [\"x\", \"y\"]}, \"bind\": \"scales\"}], \"title\": \"Sliding Window Validation\", \"width\": 800, \"$schema\": \"https://vega.github.io/schema/vega-lite/v5.20.1.json\", \"datasets\": {\"data-5f47aa8f59410fce2a816d60cace8f70\": [{\"index\": 0, \"equity_curve\": 0.006153914026884984}, {\"index\": 1, \"equity_curve\": -0.04082094148630622}, {\"index\": 2, \"equity_curve\": -0.03484967759061836}, {\"index\": 3, \"equity_curve\": -0.043361317846117436}, {\"index\": 4, \"equity_curve\": -0.04154187102280549}, {\"index\": 5, \"equity_curve\": -0.04163737555852026}, {\"index\": 6, \"equity_curve\": -0.03024472084669446}, {\"index\": 7, \"equity_curve\": -0.020017658998702996}, {\"index\": 8, \"equity_curve\": -0.021542576063858985}, {\"index\": 9, \"equity_curve\": -0.02357201652228041}, {\"index\": 10, \"equity_curve\": -0.022862854931050836}, {\"index\": 11, \"equity_curve\": -0.011294236029742171}, {\"index\": 12, \"equity_curve\": -0.006134713403147899}, {\"index\": 13, \"equity_curve\": 0.008604015133941363}, {\"index\": 14, \"equity_curve\": 0.015095129903511896}, {\"index\": 15, \"equity_curve\": 0.0076548699367875814}, {\"index\": 16, \"equity_curve\": 0.00839656710576291}, {\"index\": 17, \"equity_curve\": -0.017200957687499276}, {\"index\": 18, \"equity_curve\": -0.006867836905244574}, {\"index\": 19, \"equity_curve\": -0.022382127859142197}, {\"index\": 20, \"equity_curve\": -0.00843513928473318}, {\"index\": 21, \"equity_curve\": 0.013709090627929375}, {\"index\": 22, \"equity_curve\": 0.019949477422957128}, {\"index\": 23, \"equity_curve\": 0.015575928398055869}, {\"index\": 24, \"equity_curve\": 0.005273899008727323}, {\"index\": 25, \"equity_curve\": 0.010240076898944666}, {\"index\": 26, \"equity_curve\": 0.04248982487778935}, {\"index\": 27, \"equity_curve\": 0.060289038407021905}, {\"index\": 28, \"equity_curve\": 0.07062916805502326}, {\"index\": 29, \"equity_curve\": 0.09568231732046154}, {\"index\": 30, \"equity_curve\": 0.08340493068477507}, {\"index\": 31, \"equity_curve\": 0.08754329629160044}, {\"index\": 32, \"equity_curve\": 0.09852777513689875}, {\"index\": 33, \"equity_curve\": 0.10668989399514986}, {\"index\": 34, \"equity_curve\": 0.11100096658012057}, {\"index\": 35, \"equity_curve\": 0.12150947434637116}, {\"index\": 36, \"equity_curve\": 0.1165827135304899}, {\"index\": 37, \"equity_curve\": 0.12076805600990495}, {\"index\": 38, \"equity_curve\": 0.1213413507297971}, {\"index\": 39, \"equity_curve\": 0.1304203876558655}, {\"index\": 40, \"equity_curve\": 0.11921324192296402}, {\"index\": 41, \"equity_curve\": 0.10620462386305567}, {\"index\": 42, \"equity_curve\": 0.10489455471139711}, {\"index\": 43, \"equity_curve\": 0.10676259003154179}, {\"index\": 44, \"equity_curve\": 0.0918115408643636}, {\"index\": 45, \"equity_curve\": 0.09543565637127942}, {\"index\": 46, \"equity_curve\": 0.10483064122942082}, {\"index\": 47, \"equity_curve\": 0.11808294794821685}, {\"index\": 48, \"equity_curve\": 0.11943628901319146}, {\"index\": 49, \"equity_curve\": 0.14049619856691836}, {\"index\": 50, \"equity_curve\": 0.14718367662898982}, {\"index\": 51, \"equity_curve\": 0.14661280975290397}, {\"index\": 52, \"equity_curve\": 0.14704955965494457}, {\"index\": 53, \"equity_curve\": 0.16024799809404147}, {\"index\": 54, \"equity_curve\": 0.17105091203039705}, {\"index\": 55, \"equity_curve\": 0.15361497005650804}, {\"index\": 56, \"equity_curve\": 0.13239336534843799}, {\"index\": 57, \"equity_curve\": 0.11436813595360501}, {\"index\": 58, \"equity_curve\": 0.12465602953150405}, {\"index\": 59, \"equity_curve\": 0.11975107040983465}, {\"index\": 60, \"equity_curve\": 0.11787367858835217}, {\"index\": 61, \"equity_curve\": 0.09133271147999635}, {\"index\": 62, \"equity_curve\": 0.0870989041472116}, {\"index\": 63, \"equity_curve\": 0.07951144140098367}, {\"index\": 64, \"equity_curve\": 0.08104992536344405}, {\"index\": 65, \"equity_curve\": 0.07765492278254321}, {\"index\": 66, \"equity_curve\": 0.06282369937472299}, {\"index\": 67, \"equity_curve\": 0.06890797732950796}, {\"index\": 68, \"equity_curve\": 0.06913336548885916}, {\"index\": 69, \"equity_curve\": 0.05531740585518316}, {\"index\": 70, \"equity_curve\": 0.06928456520070461}, {\"index\": 71, \"equity_curve\": 0.07746028568280026}, {\"index\": 72, \"equity_curve\": 0.008673242086869815}, {\"index\": 73, \"equity_curve\": -0.008519242581449097}, {\"index\": 74, \"equity_curve\": 0.0021621184824552626}, {\"index\": 75, \"equity_curve\": 0.01653473165009821}, {\"index\": 76, \"equity_curve\": 0.017753349914313092}, {\"index\": 77, \"equity_curve\": 0.010795561081586871}, {\"index\": 78, \"equity_curve\": 0.010748490198057766}, {\"index\": 79, \"equity_curve\": 0.013314541267318417}, {\"index\": 80, \"equity_curve\": 0.054847491722061374}, {\"index\": 81, \"equity_curve\": 0.048818909822276095}, {\"index\": 82, \"equity_curve\": 0.027183005423582887}, {\"index\": 83, \"equity_curve\": -0.04962819722814375}, {\"index\": 84, \"equity_curve\": -0.03258512007342042}, {\"index\": 85, \"equity_curve\": -0.041061125647115934}, {\"index\": 86, \"equity_curve\": -0.04403580889915272}, {\"index\": 87, \"equity_curve\": -0.013688327206288278}, {\"index\": 88, \"equity_curve\": -0.02603693149740778}, {\"index\": 89, \"equity_curve\": 0.02040573069873896}, {\"index\": 90, \"equity_curve\": 0.04750294214626667}, {\"index\": 91, \"equity_curve\": 0.06178735903384336}, {\"index\": 92, \"equity_curve\": 0.05997181650808971}, {\"index\": 93, \"equity_curve\": 0.06653428611020365}, {\"index\": 94, \"equity_curve\": 0.06763800551368564}, {\"index\": 95, \"equity_curve\": 0.05829909141611275}, {\"index\": 96, \"equity_curve\": 0.0631682023272163}, {\"index\": 97, \"equity_curve\": 0.06503387760507356}, {\"index\": 98, \"equity_curve\": 0.07831655333957988}, {\"index\": 99, \"equity_curve\": 0.08503527725302024}, {\"index\": 100, \"equity_curve\": 0.07266622691284134}, {\"index\": 101, \"equity_curve\": 0.0812180897014087}, {\"index\": 102, \"equity_curve\": 0.04246169218664718}, {\"index\": 103, \"equity_curve\": 0.03886866904437983}, {\"index\": 104, \"equity_curve\": 0.03316049927807427}, {\"index\": 105, \"equity_curve\": 0.033074576163035566}, {\"index\": 106, \"equity_curve\": 0.02850903828770888}, {\"index\": 107, \"equity_curve\": 0.020911508823167835}, {\"index\": 108, \"equity_curve\": 0.016934329015040234}, {\"index\": 109, \"equity_curve\": 0.023312296134118497}, {\"index\": 110, \"equity_curve\": 0.026447420835233795}, {\"index\": 111, \"equity_curve\": -0.02796359072635241}, {\"index\": 112, \"equity_curve\": -0.034907613798697334}, {\"index\": 113, \"equity_curve\": -0.039229860545333395}, {\"index\": 114, \"equity_curve\": -0.02410488847945773}, {\"index\": 115, \"equity_curve\": 0.0021091843276667376}, {\"index\": 116, \"equity_curve\": 0.0062394808608372465}, {\"index\": 117, \"equity_curve\": 0.004309607345829288}, {\"index\": 118, \"equity_curve\": 0.020971426214895693}, {\"index\": 119, \"equity_curve\": 0.023169370313555083}, {\"index\": 120, \"equity_curve\": 0.0354994356844305}, {\"index\": 121, \"equity_curve\": 0.037094901498366514}, {\"index\": 122, \"equity_curve\": 0.04420714246117399}, {\"index\": 123, \"equity_curve\": 0.04525019790556599}, {\"index\": 124, \"equity_curve\": 0.02369850860395016}, {\"index\": 125, \"equity_curve\": 0.031016872997314666}, {\"index\": 126, \"equity_curve\": 0.022168838225552087}, {\"index\": 127, \"equity_curve\": 0.03125461594200505}, {\"index\": 128, \"equity_curve\": 0.03496670132713328}, {\"index\": 129, \"equity_curve\": 0.010344523208536169}, {\"index\": 130, \"equity_curve\": 0.0500680305589366}, {\"index\": 131, \"equity_curve\": 0.10684401751646602}, {\"index\": 132, \"equity_curve\": 0.09530382541561748}, {\"index\": 133, \"equity_curve\": 0.11223042411729565}, {\"index\": 134, \"equity_curve\": 0.11080559750502703}, {\"index\": 135, \"equity_curve\": 0.11319886862786092}, {\"index\": 136, \"equity_curve\": 0.11175737820397959}, {\"index\": 137, \"equity_curve\": 0.12613594786679053}, {\"index\": 138, \"equity_curve\": 0.09560950369772162}, {\"index\": 139, \"equity_curve\": 0.08734067779660305}, {\"index\": 140, \"equity_curve\": 0.09140742220388509}, {\"index\": 141, \"equity_curve\": 0.07964077664376959}, {\"index\": 142, \"equity_curve\": 0.09695643139481389}, {\"index\": 143, \"equity_curve\": 0.12529864090139087}, {\"index\": 144, \"equity_curve\": 0.13299766495827745}, {\"index\": 145, \"equity_curve\": 0.13656592029108244}, {\"index\": 146, \"equity_curve\": 0.1400494598874901}, {\"index\": 147, \"equity_curve\": 0.15036768222937957}, {\"index\": 148, \"equity_curve\": 0.15224809154569552}, {\"index\": 149, \"equity_curve\": 0.1504574466668412}, {\"index\": 150, \"equity_curve\": 0.16263480338670638}, {\"index\": 151, \"equity_curve\": 0.1803798020105548}, {\"index\": 152, \"equity_curve\": 0.18751410473535748}, {\"index\": 153, \"equity_curve\": 0.20949829333091938}, {\"index\": 154, \"equity_curve\": 0.21658477583167046}, {\"index\": 155, \"equity_curve\": 0.2231865762564524}, {\"index\": 156, \"equity_curve\": 0.2128004759537084}, {\"index\": 157, \"equity_curve\": 0.16602350419674233}, {\"index\": 158, \"equity_curve\": 0.18812498575410316}, {\"index\": 159, \"equity_curve\": 0.13822328713766063}, {\"index\": 160, \"equity_curve\": 0.08857530644486775}, {\"index\": 161, \"equity_curve\": 0.1416044586857313}, {\"index\": 162, \"equity_curve\": 0.14630777574410514}, {\"index\": 163, \"equity_curve\": 0.15616528349746048}, {\"index\": 164, \"equity_curve\": 0.154034739032381}, {\"index\": 165, \"equity_curve\": 0.13425034868955482}, {\"index\": 166, \"equity_curve\": 0.14205869695130358}, {\"index\": 167, \"equity_curve\": 0.13117268801715481}, {\"index\": 168, \"equity_curve\": 0.12597160098788732}, {\"index\": 169, \"equity_curve\": 0.1701060572332994}, {\"index\": 170, \"equity_curve\": 0.16259621996281487}, {\"index\": 171, \"equity_curve\": 0.14748560087336257}, {\"index\": 172, \"equity_curve\": 0.1856050055096951}, {\"index\": 173, \"equity_curve\": 0.18652761456289726}, {\"index\": 174, \"equity_curve\": 0.19845915755960924}, {\"index\": 175, \"equity_curve\": 0.1708217942705877}, {\"index\": 176, \"equity_curve\": 0.17560985994754388}, {\"index\": 177, \"equity_curve\": 0.18137709019353257}, {\"index\": 178, \"equity_curve\": 0.17850710779831683}, {\"index\": 179, \"equity_curve\": 0.1648747319368255}, {\"index\": 180, \"equity_curve\": 0.1670079938688255}, {\"index\": 181, \"equity_curve\": 0.15478450869511798}, {\"index\": 182, \"equity_curve\": 0.1702232632007375}, {\"index\": 183, \"equity_curve\": 0.16326083692545837}, {\"index\": 184, \"equity_curve\": 0.16188306820043435}, {\"index\": 185, \"equity_curve\": 0.17423209561676303}, {\"index\": 186, \"equity_curve\": 0.19654918790106}, {\"index\": 187, \"equity_curve\": 0.19394596229499036}, {\"index\": 188, \"equity_curve\": 0.19129207129198014}, {\"index\": 189, \"equity_curve\": 0.2060232007489301}, {\"index\": 190, \"equity_curve\": 0.20281976904441193}, {\"index\": 191, \"equity_curve\": 0.20630335716973175}, {\"index\": 192, \"equity_curve\": 0.20054491622808246}, {\"index\": 193, \"equity_curve\": 0.20800298722245766}, {\"index\": 194, \"equity_curve\": 0.21690264329909753}, {\"index\": 195, \"equity_curve\": 0.24630997003570237}, {\"index\": 196, \"equity_curve\": 0.23257947054648917}, {\"index\": 197, \"equity_curve\": 0.19345908276020385}, {\"index\": 198, \"equity_curve\": 0.1744349159670427}, {\"index\": 199, \"equity_curve\": 0.1735953931201672}, {\"index\": 200, \"equity_curve\": 0.15661560042013678}, {\"index\": 201, \"equity_curve\": 0.1468425177483737}, {\"index\": 202, \"equity_curve\": 0.17376798418606137}, {\"index\": 203, \"equity_curve\": 0.1700253464794667}, {\"index\": 204, \"equity_curve\": 0.16891462216992834}, {\"index\": 205, \"equity_curve\": 0.16883108302888422}, {\"index\": 206, \"equity_curve\": 0.1650858099001118}, {\"index\": 207, \"equity_curve\": 0.1681688677783884}, {\"index\": 208, \"equity_curve\": 0.12853219466980803}, {\"index\": 209, \"equity_curve\": 0.1680143583244308}, {\"index\": 210, \"equity_curve\": 0.18920014266903584}, {\"index\": 211, \"equity_curve\": 0.1891327932868374}, {\"index\": 212, \"equity_curve\": 0.18695415784422348}, {\"index\": 213, \"equity_curve\": 0.22483776015258336}, {\"index\": 214, \"equity_curve\": 0.21127920540348977}, {\"index\": 215, \"equity_curve\": 0.20293629900801347}, {\"index\": 216, \"equity_curve\": 0.22514393146140158}, {\"index\": 217, \"equity_curve\": 0.24319177855101665}, {\"index\": 218, \"equity_curve\": 0.24796563215173764}, {\"index\": 219, \"equity_curve\": 0.25735959649892887}, {\"index\": 220, \"equity_curve\": 0.25572706500934267}, {\"index\": 221, \"equity_curve\": 0.22613994523801637}, {\"index\": 222, \"equity_curve\": 0.29254503287530015}, {\"index\": 223, \"equity_curve\": 0.23533733900597573}, {\"index\": 224, \"equity_curve\": 0.24968318246010573}, {\"index\": 225, \"equity_curve\": 0.2724587160484793}, {\"index\": 226, \"equity_curve\": 0.28221833714780614}, {\"index\": 227, \"equity_curve\": 0.2686228400050961}, {\"index\": 228, \"equity_curve\": 0.25154147918583647}, {\"index\": 229, \"equity_curve\": 0.27054257229482126}, {\"index\": 230, \"equity_curve\": 0.2849751847998548}, {\"index\": 231, \"equity_curve\": 0.29036005218332783}, {\"index\": 232, \"equity_curve\": 0.28862872616949653}, {\"index\": 233, \"equity_curve\": 0.2893472130975734}, {\"index\": 234, \"equity_curve\": 0.2900499135584205}, {\"index\": 235, \"equity_curve\": 0.2686779614176604}, {\"index\": 236, \"equity_curve\": 0.2303139396462101}, {\"index\": 237, \"equity_curve\": 0.26341060821985873}, {\"index\": 238, \"equity_curve\": 0.2702153890142116}, {\"index\": 239, \"equity_curve\": 0.2843167758806595}, {\"index\": 240, \"equity_curve\": 0.2972180414219964}, {\"index\": 241, \"equity_curve\": 0.3079165242617266}, {\"index\": 242, \"equity_curve\": 0.2930447569277006}, {\"index\": 243, \"equity_curve\": 0.287566695433155}, {\"index\": 244, \"equity_curve\": 0.2877099832585203}, {\"index\": 245, \"equity_curve\": 0.2653766830369455}, {\"index\": 246, \"equity_curve\": 0.2614659284825752}, {\"index\": 247, \"equity_curve\": 0.24787627458524902}, {\"index\": 248, \"equity_curve\": 0.22990323904043636}, {\"index\": 249, \"equity_curve\": 0.21822636807415896}, {\"index\": 250, \"equity_curve\": 0.19131010945936647}, {\"index\": 251, \"equity_curve\": 0.2547124500819182}, {\"index\": 252, \"equity_curve\": 0.2783847893400064}, {\"index\": 253, \"equity_curve\": 0.2907337833731909}, {\"index\": 254, \"equity_curve\": 0.2953470177702597}, {\"index\": 255, \"equity_curve\": 0.278825050628445}, {\"index\": 256, \"equity_curve\": 0.3020946625165444}, {\"index\": 257, \"equity_curve\": 0.27843037164184226}, {\"index\": 258, \"equity_curve\": 0.2906713517217564}, {\"index\": 259, \"equity_curve\": 0.2778022934161306}, {\"index\": 260, \"equity_curve\": 0.2738506675796953}, {\"index\": 261, \"equity_curve\": 0.2773605368354841}, {\"index\": 262, \"equity_curve\": 0.27838996264057614}, {\"index\": 263, \"equity_curve\": 0.27748188378679106}, {\"index\": 264, \"equity_curve\": 0.28988704197136694}, {\"index\": 265, \"equity_curve\": 0.28734353433570403}, {\"index\": 266, \"equity_curve\": 0.29471826542548063}, {\"index\": 267, \"equity_curve\": 0.27027725217012866}, {\"index\": 268, \"equity_curve\": 0.2737288791634964}, {\"index\": 269, \"equity_curve\": 0.2918221286742556}, {\"index\": 270, \"equity_curve\": 0.31177840269936585}, {\"index\": 271, \"equity_curve\": 0.31881423742746134}, {\"index\": 272, \"equity_curve\": 0.32175107887873433}, {\"index\": 273, \"equity_curve\": 0.32793258939776365}, {\"index\": 274, \"equity_curve\": 0.32920736657415683}, {\"index\": 275, \"equity_curve\": 0.32888549256762417}, {\"index\": 276, \"equity_curve\": 0.3263715188849632}, {\"index\": 277, \"equity_curve\": 0.31368931160830604}, {\"index\": 278, \"equity_curve\": 0.31318120373690406}, {\"index\": 279, \"equity_curve\": 0.31031305416645943}, {\"index\": 280, \"equity_curve\": 0.3088800724575062}, {\"index\": 281, \"equity_curve\": 0.3090463660099354}, {\"index\": 282, \"equity_curve\": 0.3170666575253592}, {\"index\": 283, \"equity_curve\": 0.31920148397477927}, {\"index\": 284, \"equity_curve\": 0.32504989450388555}, {\"index\": 285, \"equity_curve\": 0.33618821375759006}, {\"index\": 286, \"equity_curve\": 0.33950880496335123}, {\"index\": 287, \"equity_curve\": 0.3646945666008722}, {\"index\": 288, \"equity_curve\": 0.3688315162390475}, {\"index\": 289, \"equity_curve\": 0.3685921748308574}, {\"index\": 290, \"equity_curve\": 0.3640327291036009}, {\"index\": 291, \"equity_curve\": 0.3656355777529264}, {\"index\": 292, \"equity_curve\": 0.36101457253634134}, {\"index\": 293, \"equity_curve\": 0.31551239985122115}, {\"index\": 294, \"equity_curve\": 0.28974801675218337}, {\"index\": 295, \"equity_curve\": 0.2835880396972501}, {\"index\": 296, \"equity_curve\": 0.28280817000091735}, {\"index\": 297, \"equity_curve\": 0.2323108364513513}, {\"index\": 298, \"equity_curve\": 0.26095315007927233}, {\"index\": 299, \"equity_curve\": 0.2377538775204149}, {\"index\": 300, \"equity_curve\": 0.28855490606788886}, {\"index\": 301, \"equity_curve\": 0.33499414731244476}, {\"index\": 302, \"equity_curve\": 0.3384756409067338}, {\"index\": 303, \"equity_curve\": 0.35505385440359405}, {\"index\": 304, \"equity_curve\": 0.3545970229344917}, {\"index\": 305, \"equity_curve\": 0.2638284910204598}, {\"index\": 306, \"equity_curve\": 0.2801222089610047}, {\"index\": 307, \"equity_curve\": 0.35290519422423616}, {\"index\": 308, \"equity_curve\": 0.32582731581034263}, {\"index\": 309, \"equity_curve\": 0.3650502754900527}, {\"index\": 310, \"equity_curve\": 0.3364453430795514}, {\"index\": 311, \"equity_curve\": 0.3277008732208229}, {\"index\": 312, \"equity_curve\": 0.31941978284420347}, {\"index\": 313, \"equity_curve\": 0.33521861813618925}, {\"index\": 314, \"equity_curve\": 0.32449244176930214}, {\"index\": 315, \"equity_curve\": 0.2997306141101134}, {\"index\": 316, \"equity_curve\": 0.2901184129997953}, {\"index\": 317, \"equity_curve\": 0.29314905992408313}, {\"index\": 318, \"equity_curve\": 0.27919117132678695}, {\"index\": 319, \"equity_curve\": 0.22725617222644393}, {\"index\": 320, \"equity_curve\": 0.2619843453368192}, {\"index\": 321, \"equity_curve\": 0.20061833849453983}, {\"index\": 322, \"equity_curve\": 0.2395218818145251}, {\"index\": 323, \"equity_curve\": 0.25424320228036396}, {\"index\": 324, \"equity_curve\": 0.2533268108688974}, {\"index\": 325, \"equity_curve\": 0.24529976862604616}, {\"index\": 326, \"equity_curve\": 0.23688095124505557}, {\"index\": 327, \"equity_curve\": 0.21427244515336624}, {\"index\": 328, \"equity_curve\": 0.24005052600633459}, {\"index\": 329, \"equity_curve\": 0.2488694001476252}, {\"index\": 330, \"equity_curve\": 0.24750030830820743}, {\"index\": 331, \"equity_curve\": 0.2445530100308522}, {\"index\": 332, \"equity_curve\": 0.22133254257496024}, {\"index\": 333, \"equity_curve\": 0.22343915334313655}, {\"index\": 334, \"equity_curve\": 0.234683930495468}, {\"index\": 335, \"equity_curve\": 0.24051177927894643}, {\"index\": 336, \"equity_curve\": 0.22354091503188686}, {\"index\": 337, \"equity_curve\": 0.22494634730041813}, {\"index\": 338, \"equity_curve\": 0.23914715105940945}, {\"index\": 339, \"equity_curve\": 0.2044380389340476}, {\"index\": 340, \"equity_curve\": 0.22008338453085807}, {\"index\": 341, \"equity_curve\": 0.20500933953914835}, {\"index\": 342, \"equity_curve\": 0.2028974364724903}, {\"index\": 343, \"equity_curve\": 0.20342464076088748}, {\"index\": 344, \"equity_curve\": 0.2050948632292625}, {\"index\": 345, \"equity_curve\": 0.20050068994093037}, {\"index\": 346, \"equity_curve\": 0.2105520400544201}, {\"index\": 347, \"equity_curve\": 0.22687032932166842}, {\"index\": 348, \"equity_curve\": 0.20845399700261266}, {\"index\": 349, \"equity_curve\": 0.21051102689127887}, {\"index\": 350, \"equity_curve\": 0.21211412403773008}, {\"index\": 351, \"equity_curve\": 0.21264648623289645}, {\"index\": 352, \"equity_curve\": 0.21886610217430388}, {\"index\": 353, \"equity_curve\": 0.23077891246792132}, {\"index\": 354, \"equity_curve\": 0.23108850910281142}, {\"index\": 355, \"equity_curve\": 0.23442583001923956}, {\"index\": 356, \"equity_curve\": 0.21148816121317224}, {\"index\": 357, \"equity_curve\": 0.20166230919890318}, {\"index\": 358, \"equity_curve\": 0.17614781543021626}, {\"index\": 359, \"equity_curve\": 0.18038900126254467}, {\"index\": 360, \"equity_curve\": 0.18612642063591645}, {\"index\": 361, \"equity_curve\": 0.17733487888795516}, {\"index\": 362, \"equity_curve\": 0.17513094824201578}, {\"index\": 363, \"equity_curve\": 0.17933281368623805}, {\"index\": 364, \"equity_curve\": 0.19570843548170955}, {\"index\": 365, \"equity_curve\": 0.18102185048970648}, {\"index\": 366, \"equity_curve\": 0.18800687676489333}, {\"index\": 367, \"equity_curve\": 0.16353697516316307}, {\"index\": 368, \"equity_curve\": 0.17045966710524363}, {\"index\": 369, \"equity_curve\": 0.1719442715275951}, {\"index\": 370, \"equity_curve\": 0.16533689183065664}, {\"index\": 371, \"equity_curve\": 0.18008354784402178}, {\"index\": 372, \"equity_curve\": 0.17490808317065426}, {\"index\": 373, \"equity_curve\": 0.17583898727509212}, {\"index\": 374, \"equity_curve\": 0.1674693388228771}, {\"index\": 375, \"equity_curve\": 0.11261567239500304}, {\"index\": 376, \"equity_curve\": 0.09024587980496174}, {\"index\": 377, \"equity_curve\": 0.12213774015165052}, {\"index\": 378, \"equity_curve\": 0.13231699112207976}, {\"index\": 379, \"equity_curve\": 0.17906926307391863}, {\"index\": 380, \"equity_curve\": 0.1778391151174503}, {\"index\": 381, \"equity_curve\": 0.25828823962068315}, {\"index\": 382, \"equity_curve\": 0.26739628471878785}, {\"index\": 383, \"equity_curve\": 0.29563866333466104}, {\"index\": 384, \"equity_curve\": 0.32702129821576637}, {\"index\": 385, \"equity_curve\": 0.34251277918841316}, {\"index\": 386, \"equity_curve\": 0.3437796922555108}, {\"index\": 387, \"equity_curve\": 0.3645696929442346}, {\"index\": 388, \"equity_curve\": 0.37337440479080225}, {\"index\": 389, \"equity_curve\": 0.38261204645227054}, {\"index\": 390, \"equity_curve\": 0.39658337306162966}, {\"index\": 391, \"equity_curve\": 0.40056814274805264}, {\"index\": 392, \"equity_curve\": 0.4122717598701478}, {\"index\": 393, \"equity_curve\": 0.38932652357663283}, {\"index\": 394, \"equity_curve\": 0.39409692611501734}, {\"index\": 395, \"equity_curve\": 0.3938766860524599}, {\"index\": 396, \"equity_curve\": 0.4003067368441134}, {\"index\": 397, \"equity_curve\": 0.4048296980716571}, {\"index\": 398, \"equity_curve\": 0.4081987302560164}, {\"index\": 399, \"equity_curve\": 0.40573319210207126}, {\"index\": 400, \"equity_curve\": 0.41467545285341934}, {\"index\": 401, \"equity_curve\": 0.4131198753136669}, {\"index\": 402, \"equity_curve\": 0.40174044115600227}, {\"index\": 403, \"equity_curve\": 0.4141998721516225}, {\"index\": 404, \"equity_curve\": 0.43509382311946443}, {\"index\": 405, \"equity_curve\": 0.4290204935337287}, {\"index\": 406, \"equity_curve\": 0.4164469562357823}, {\"index\": 407, \"equity_curve\": 0.363326833569833}, {\"index\": 408, \"equity_curve\": 0.36354414330825197}, {\"index\": 409, \"equity_curve\": 0.3613319860240989}, {\"index\": 410, \"equity_curve\": 0.3499789196204056}, {\"index\": 411, \"equity_curve\": 0.3645255704388821}, {\"index\": 412, \"equity_curve\": 0.3716405012747584}, {\"index\": 413, \"equity_curve\": 0.37175149839370425}, {\"index\": 414, \"equity_curve\": 0.37701100320260333}, {\"index\": 415, \"equity_curve\": 0.3821002884966399}, {\"index\": 416, \"equity_curve\": 0.38957829590740894}, {\"index\": 417, \"equity_curve\": 0.3877229702188073}, {\"index\": 418, \"equity_curve\": 0.40443472351268506}, {\"index\": 419, \"equity_curve\": 0.4012062538517864}, {\"index\": 420, \"equity_curve\": 0.3999655660844118}, {\"index\": 421, \"equity_curve\": 0.3905955989114317}, {\"index\": 422, \"equity_curve\": 0.4003819405414386}, {\"index\": 423, \"equity_curve\": 0.4109647767878328}, {\"index\": 424, \"equity_curve\": 0.4320404300705405}, {\"index\": 425, \"equity_curve\": 0.435087901907614}, {\"index\": 426, \"equity_curve\": 0.43040706211003055}, {\"index\": 427, \"equity_curve\": 0.4299476050562774}, {\"index\": 428, \"equity_curve\": 0.4202384483668224}, {\"index\": 429, \"equity_curve\": 0.4192754798038046}, {\"index\": 430, \"equity_curve\": 0.41480532313374474}, {\"index\": 431, \"equity_curve\": 0.4027190733388923}, {\"index\": 432, \"equity_curve\": 0.40012418366387237}, {\"index\": 433, \"equity_curve\": 0.40765750135614}, {\"index\": 434, \"equity_curve\": 0.41748847931221106}, {\"index\": 435, \"equity_curve\": 0.44927593514991715}, {\"index\": 436, \"equity_curve\": 0.44720058722813527}, {\"index\": 437, \"equity_curve\": 0.44732018200817186}, {\"index\": 438, \"equity_curve\": 0.47157704284618907}, {\"index\": 439, \"equity_curve\": 0.43348418460171334}, {\"index\": 440, \"equity_curve\": 0.4365267409866638}, {\"index\": 441, \"equity_curve\": 0.43626053599948045}, {\"index\": 442, \"equity_curve\": 0.4404550685202809}, {\"index\": 443, \"equity_curve\": 0.45404268053831287}, {\"index\": 444, \"equity_curve\": 0.45571505828748654}, {\"index\": 445, \"equity_curve\": 0.4505302334790848}, {\"index\": 446, \"equity_curve\": 0.44699183444379376}, {\"index\": 447, \"equity_curve\": 0.43763525179050244}, {\"index\": 448, \"equity_curve\": 0.44680281912623965}, {\"index\": 449, \"equity_curve\": 0.4506195900970827}, {\"index\": 450, \"equity_curve\": 0.448902161432385}, {\"index\": 451, \"equity_curve\": 0.4446072399111468}, {\"index\": 452, \"equity_curve\": 0.43369521706521763}, {\"index\": 453, \"equity_curve\": 0.4470824719728066}, {\"index\": 454, \"equity_curve\": 0.4461178215114183}, {\"index\": 455, \"equity_curve\": 0.4441634835985855}, {\"index\": 456, \"equity_curve\": 0.43962763394833887}, {\"index\": 457, \"equity_curve\": 0.44094204538521137}, {\"index\": 458, \"equity_curve\": 0.4476078149639691}, {\"index\": 459, \"equity_curve\": 0.47271754301782937}, {\"index\": 460, \"equity_curve\": 0.5061202918294566}, {\"index\": 461, \"equity_curve\": 0.5312564718465053}, {\"index\": 462, \"equity_curve\": 0.534791513602563}, {\"index\": 463, \"equity_curve\": 0.5502749840803698}, {\"index\": 464, \"equity_curve\": 0.5531743114462422}, {\"index\": 465, \"equity_curve\": 0.5243097973459749}, {\"index\": 466, \"equity_curve\": 0.5122073760777685}, {\"index\": 467, \"equity_curve\": 0.505751126797652}, {\"index\": 468, \"equity_curve\": 0.48192082966754624}, {\"index\": 469, \"equity_curve\": 0.46563141057761875}, {\"index\": 470, \"equity_curve\": 0.4830116452014877}, {\"index\": 471, \"equity_curve\": 0.4696077772136994}, {\"index\": 472, \"equity_curve\": 0.46509524378426903}, {\"index\": 473, \"equity_curve\": 0.48121161986540434}, {\"index\": 474, \"equity_curve\": 0.47407097296952466}, {\"index\": 475, \"equity_curve\": 0.47726460849829966}, {\"index\": 476, \"equity_curve\": 0.4786805954995244}, {\"index\": 477, \"equity_curve\": 0.47270615375695574}, {\"index\": 478, \"equity_curve\": 0.4720823901826201}, {\"index\": 479, \"equity_curve\": 0.4619384297689389}, {\"index\": 480, \"equity_curve\": 0.4713340956432552}, {\"index\": 481, \"equity_curve\": 0.5012047268920107}, {\"index\": 482, \"equity_curve\": 0.5039251115239141}, {\"index\": 483, \"equity_curve\": 0.48602566072701364}, {\"index\": 484, \"equity_curve\": 0.4813094099746362}, {\"index\": 485, \"equity_curve\": 0.49173037756456706}, {\"index\": 486, \"equity_curve\": 0.4965888916860878}, {\"index\": 487, \"equity_curve\": 0.5113328894927289}, {\"index\": 488, \"equity_curve\": 0.5264422051780522}, {\"index\": 489, \"equity_curve\": 0.543736977008026}, {\"index\": 490, \"equity_curve\": 0.5382957124173662}, {\"index\": 491, \"equity_curve\": 0.5374408905529201}, {\"index\": 492, \"equity_curve\": 0.534721924289999}, {\"index\": 493, \"equity_curve\": 0.5308847517035885}, {\"index\": 494, \"equity_curve\": 0.5321349040764989}, {\"index\": 495, \"equity_curve\": 0.5642773123431643}, {\"index\": 496, \"equity_curve\": 0.5877280856637656}, {\"index\": 497, \"equity_curve\": 0.5841337596698233}, {\"index\": 498, \"equity_curve\": 0.5759697470860536}, {\"index\": 499, \"equity_curve\": 0.579891842122431}, {\"index\": 500, \"equity_curve\": 0.578833709632111}, {\"index\": 501, \"equity_curve\": 0.5782913417428956}, {\"index\": 502, \"equity_curve\": 0.5973317343022825}, {\"index\": 503, \"equity_curve\": 0.5742046269592164}, {\"index\": 504, \"equity_curve\": 0.5808474701701002}, {\"index\": 505, \"equity_curve\": 0.5875583519162222}, {\"index\": 506, \"equity_curve\": 0.5969944521088844}, {\"index\": 507, \"equity_curve\": 0.5914838805474182}, {\"index\": 508, \"equity_curve\": 0.5753591775207809}, {\"index\": 509, \"equity_curve\": 0.5635608023946075}, {\"index\": 510, \"equity_curve\": 0.5576766281023154}, {\"index\": 511, \"equity_curve\": 0.5675090811698827}, {\"index\": 512, \"equity_curve\": 0.5580642093194778}, {\"index\": 513, \"equity_curve\": 0.5611945813553552}, {\"index\": 514, \"equity_curve\": 0.5570535169473301}, {\"index\": 515, \"equity_curve\": 0.5628513342812035}, {\"index\": 516, \"equity_curve\": 0.5751682604914318}, {\"index\": 517, \"equity_curve\": 0.5760334590588351}, {\"index\": 518, \"equity_curve\": 0.5869329137719677}, {\"index\": 519, \"equity_curve\": 0.576605403107258}, {\"index\": 520, \"equity_curve\": 0.5793115785043151}, {\"index\": 521, \"equity_curve\": 0.5797084796277181}, {\"index\": 522, \"equity_curve\": 0.5808070216171209}, {\"index\": 523, \"equity_curve\": 0.5797502905437645}, {\"index\": 524, \"equity_curve\": 0.5923041458336314}, {\"index\": 525, \"equity_curve\": 0.6179539693491491}, {\"index\": 526, \"equity_curve\": 0.6235693788244709}, {\"index\": 527, \"equity_curve\": 0.6065933709654079}, {\"index\": 528, \"equity_curve\": 0.6125892819518343}, {\"index\": 529, \"equity_curve\": 0.5950150176662515}, {\"index\": 530, \"equity_curve\": 0.5984164016805895}, {\"index\": 531, \"equity_curve\": 0.6375655062709376}, {\"index\": 532, \"equity_curve\": 0.6390510679423583}, {\"index\": 533, \"equity_curve\": 0.6475779191670896}, {\"index\": 534, \"equity_curve\": 0.637244348770595}, {\"index\": 535, \"equity_curve\": 0.6359039653994184}, {\"index\": 536, \"equity_curve\": 0.6358368490532071}, {\"index\": 537, \"equity_curve\": 0.6324836934017889}, {\"index\": 538, \"equity_curve\": 0.6327642541885261}, {\"index\": 539, \"equity_curve\": 0.6333905558882349}, {\"index\": 540, \"equity_curve\": 0.6305015644186501}, {\"index\": 541, \"equity_curve\": 0.6312407471474156}, {\"index\": 542, \"equity_curve\": 0.6200458236269154}, {\"index\": 543, \"equity_curve\": 0.6213237460560983}, {\"index\": 544, \"equity_curve\": 0.6148240304665079}, {\"index\": 545, \"equity_curve\": 0.6099734302356439}, {\"index\": 546, \"equity_curve\": 0.6050062830728611}, {\"index\": 547, \"equity_curve\": 0.5963453151592921}, {\"index\": 548, \"equity_curve\": 0.6132569359615835}, {\"index\": 549, \"equity_curve\": 0.6258394411835647}, {\"index\": 550, \"equity_curve\": 0.618960581353654}, {\"index\": 551, \"equity_curve\": 0.6190135261331742}, {\"index\": 552, \"equity_curve\": 0.6125763222894987}, {\"index\": 553, \"equity_curve\": 0.6042091766750419}, {\"index\": 554, \"equity_curve\": 0.605354576335903}, {\"index\": 555, \"equity_curve\": 0.6062268663836968}, {\"index\": 556, \"equity_curve\": 0.6049676761420695}, {\"index\": 557, \"equity_curve\": 0.6153608797594294}, {\"index\": 558, \"equity_curve\": 0.6203749961688193}, {\"index\": 559, \"equity_curve\": 0.616721919604812}, {\"index\": 560, \"equity_curve\": 0.612027027684717}, {\"index\": 561, \"equity_curve\": 0.6105563459150208}, {\"index\": 562, \"equity_curve\": 0.6117973882192539}, {\"index\": 563, \"equity_curve\": 0.631702844635641}, {\"index\": 564, \"equity_curve\": 0.633752607677211}, {\"index\": 565, \"equity_curve\": 0.6778837528667941}, {\"index\": 566, \"equity_curve\": 0.6623903906114732}, {\"index\": 567, \"equity_curve\": 0.6648562839660956}, {\"index\": 568, \"equity_curve\": 0.6671820878245268}, {\"index\": 569, \"equity_curve\": 0.6639137122253151}, {\"index\": 570, \"equity_curve\": 0.6694084602632226}, {\"index\": 571, \"equity_curve\": 0.6609536800757332}, {\"index\": 572, \"equity_curve\": 0.6406946059343337}, {\"index\": 573, \"equity_curve\": 0.6544375643978091}, {\"index\": 574, \"equity_curve\": 0.631593238291446}, {\"index\": 575, \"equity_curve\": 0.6369422222345655}, {\"index\": 576, \"equity_curve\": 0.6455395480120147}, {\"index\": 577, \"equity_curve\": 0.6469248687237514}, {\"index\": 578, \"equity_curve\": 0.6416678304802973}, {\"index\": 579, \"equity_curve\": 0.6518532267098658}, {\"index\": 580, \"equity_curve\": 0.6518624567523115}, {\"index\": 581, \"equity_curve\": 0.6410715328854171}, {\"index\": 582, \"equity_curve\": 0.6376540346270734}, {\"index\": 583, \"equity_curve\": 0.6335407684759732}, {\"index\": 584, \"equity_curve\": 0.6340057987198048}, {\"index\": 585, \"equity_curve\": 0.6284486502391361}, {\"index\": 586, \"equity_curve\": 0.6354961713429088}, {\"index\": 587, \"equity_curve\": 0.6294224456706924}, {\"index\": 588, \"equity_curve\": 0.6447480013434247}, {\"index\": 589, \"equity_curve\": 0.6376264976402446}, {\"index\": 590, \"equity_curve\": 0.6502810567384308}, {\"index\": 591, \"equity_curve\": 0.6522094016790875}, {\"index\": 592, \"equity_curve\": 0.6508986667424199}, {\"index\": 593, \"equity_curve\": 0.6486719616696234}, {\"index\": 594, \"equity_curve\": 0.6334271316375293}, {\"index\": 595, \"equity_curve\": 0.6426450939309971}, {\"index\": 596, \"equity_curve\": 0.6441280455734336}, {\"index\": 597, \"equity_curve\": 0.6452415747268185}, {\"index\": 598, \"equity_curve\": 0.6466334389048731}, {\"index\": 599, \"equity_curve\": 0.6581715360891917}, {\"index\": 600, \"equity_curve\": 0.6632933442213955}, {\"index\": 601, \"equity_curve\": 0.6567754010878666}, {\"index\": 602, \"equity_curve\": 0.6611591522449288}, {\"index\": 603, \"equity_curve\": 0.6555513526241195}, {\"index\": 604, \"equity_curve\": 0.6524055325101742}, {\"index\": 605, \"equity_curve\": 0.6544820516413322}, {\"index\": 606, \"equity_curve\": 0.6592249279127472}, {\"index\": 607, \"equity_curve\": 0.6817325674153527}, {\"index\": 608, \"equity_curve\": 0.6778294500593566}, {\"index\": 609, \"equity_curve\": 0.660307116896539}, {\"index\": 610, \"equity_curve\": 0.6646044695440432}, {\"index\": 611, \"equity_curve\": 0.6537867105098615}, {\"index\": 612, \"equity_curve\": 0.6652865396531868}, {\"index\": 613, \"equity_curve\": 0.6622974283303816}, {\"index\": 614, \"equity_curve\": 0.6649150934553282}, {\"index\": 615, \"equity_curve\": 0.6697274361228401}, {\"index\": 616, \"equity_curve\": 0.6716431480220798}, {\"index\": 617, \"equity_curve\": 0.6654172592701473}, {\"index\": 618, \"equity_curve\": 0.66645468374687}, {\"index\": 619, \"equity_curve\": 0.673027424088385}, {\"index\": 620, \"equity_curve\": 0.6598203755485877}, {\"index\": 621, \"equity_curve\": 0.6516899783295333}, {\"index\": 622, \"equity_curve\": 0.6566366204547697}, {\"index\": 623, \"equity_curve\": 0.6548179607499305}, {\"index\": 624, \"equity_curve\": 0.6585553454508078}, {\"index\": 625, \"equity_curve\": 0.6530492434066825}, {\"index\": 626, \"equity_curve\": 0.6690159763217098}, {\"index\": 627, \"equity_curve\": 0.6609385158301485}, {\"index\": 628, \"equity_curve\": 0.6501819618541553}, {\"index\": 629, \"equity_curve\": 0.6660953765191836}, {\"index\": 630, \"equity_curve\": 0.6645956250719285}, {\"index\": 631, \"equity_curve\": 0.6781521790549586}, {\"index\": 632, \"equity_curve\": 0.6743494901514886}, {\"index\": 633, \"equity_curve\": 0.6971945137344424}, {\"index\": 634, \"equity_curve\": 0.7166488669340773}, {\"index\": 635, \"equity_curve\": 0.6940240558267045}, {\"index\": 636, \"equity_curve\": 0.6999922293242452}, {\"index\": 637, \"equity_curve\": 0.6858464094079537}, {\"index\": 638, \"equity_curve\": 0.6863681049644039}, {\"index\": 639, \"equity_curve\": 0.6862769131167215}, {\"index\": 640, \"equity_curve\": 0.6941230003759764}, {\"index\": 641, \"equity_curve\": 0.6864822961119871}, {\"index\": 642, \"equity_curve\": 0.6653511774299886}, {\"index\": 643, \"equity_curve\": 0.6764606910600097}, {\"index\": 644, \"equity_curve\": 0.6702218031787012}, {\"index\": 645, \"equity_curve\": 0.6471198476361275}, {\"index\": 646, \"equity_curve\": 0.6542145470310967}, {\"index\": 647, \"equity_curve\": 0.6594197833194865}, {\"index\": 648, \"equity_curve\": 0.6692764225965873}, {\"index\": 649, \"equity_curve\": 0.6636194363133073}, {\"index\": 650, \"equity_curve\": 0.6619338951662567}, {\"index\": 651, \"equity_curve\": 0.7022997535789944}, {\"index\": 652, \"equity_curve\": 0.7163486622629704}, {\"index\": 653, \"equity_curve\": 0.7173059826715958}, {\"index\": 654, \"equity_curve\": 0.7114375492723684}, {\"index\": 655, \"equity_curve\": 0.7004296857053343}, {\"index\": 656, \"equity_curve\": 0.6802838768358022}, {\"index\": 657, \"equity_curve\": 0.6701621032810904}, {\"index\": 658, \"equity_curve\": 0.668144878889852}, {\"index\": 659, \"equity_curve\": 0.6850054209047816}, {\"index\": 660, \"equity_curve\": 0.6889438834496656}, {\"index\": 661, \"equity_curve\": 0.6896262358567554}, {\"index\": 662, \"equity_curve\": 0.7046360190867756}, {\"index\": 663, \"equity_curve\": 0.7079122113440006}, {\"index\": 664, \"equity_curve\": 0.6858089197752583}, {\"index\": 665, \"equity_curve\": 0.6700983811557295}, {\"index\": 666, \"equity_curve\": 0.6729208800452448}, {\"index\": 667, \"equity_curve\": 0.6740184139243598}, {\"index\": 668, \"equity_curve\": 0.6702608308981978}, {\"index\": 669, \"equity_curve\": 0.6689531003259375}, {\"index\": 670, \"equity_curve\": 0.6736873486913698}, {\"index\": 671, \"equity_curve\": 0.6779643542264054}, {\"index\": 672, \"equity_curve\": 0.6826307080371825}, {\"index\": 673, \"equity_curve\": 0.6961165652401479}, {\"index\": 674, \"equity_curve\": 0.6942871068640339}, {\"index\": 675, \"equity_curve\": 0.6918822788355663}, {\"index\": 676, \"equity_curve\": 0.6838264390571311}, {\"index\": 677, \"equity_curve\": 0.6830632639770874}, {\"index\": 678, \"equity_curve\": 0.69759582995692}, {\"index\": 679, \"equity_curve\": 0.7127113300821554}, {\"index\": 680, \"equity_curve\": 0.7137775255553273}, {\"index\": 681, \"equity_curve\": 0.7083661403192709}, {\"index\": 682, \"equity_curve\": 0.7184319570113646}, {\"index\": 683, \"equity_curve\": 0.719992731958195}, {\"index\": 684, \"equity_curve\": 0.7284733608277553}, {\"index\": 685, \"equity_curve\": 0.7285572764372684}, {\"index\": 686, \"equity_curve\": 0.7319867169892759}, {\"index\": 687, \"equity_curve\": 0.723969605508609}, {\"index\": 688, \"equity_curve\": 0.7308205298701531}, {\"index\": 689, \"equity_curve\": 0.7452386867082763}, {\"index\": 690, \"equity_curve\": 0.7446760548403084}, {\"index\": 691, \"equity_curve\": 0.757458943245615}, {\"index\": 692, \"equity_curve\": 0.7623571249090149}, {\"index\": 693, \"equity_curve\": 0.7720209779318445}, {\"index\": 694, \"equity_curve\": 0.772585897803715}, {\"index\": 695, \"equity_curve\": 0.7730190754184852}, {\"index\": 696, \"equity_curve\": 0.7720458990003132}, {\"index\": 697, \"equity_curve\": 0.767369756083932}, {\"index\": 698, \"equity_curve\": 0.765623592204563}, {\"index\": 699, \"equity_curve\": 0.7681558371115752}, {\"index\": 700, \"equity_curve\": 0.7688360301599221}, {\"index\": 701, \"equity_curve\": 0.7819853620739228}, {\"index\": 702, \"equity_curve\": 0.7866834270145433}, {\"index\": 703, \"equity_curve\": 0.7849431192872558}, {\"index\": 704, \"equity_curve\": 0.790191238265716}, {\"index\": 705, \"equity_curve\": 0.7902091845218072}, {\"index\": 706, \"equity_curve\": 0.7844326907224225}, {\"index\": 707, \"equity_curve\": 0.777761187153042}, {\"index\": 708, \"equity_curve\": 0.7800550079824587}, {\"index\": 709, \"equity_curve\": 0.7782404375246804}, {\"index\": 710, \"equity_curve\": 0.7776729246776897}, {\"index\": 711, \"equity_curve\": 0.7744190881077647}, {\"index\": 712, \"equity_curve\": 0.7536304378094396}, {\"index\": 713, \"equity_curve\": 0.7517725620667579}, {\"index\": 714, \"equity_curve\": 0.7547334147627323}, {\"index\": 715, \"equity_curve\": 0.7459146515654952}, {\"index\": 716, \"equity_curve\": 0.7551176205459489}, {\"index\": 717, \"equity_curve\": 0.7575221903850342}, {\"index\": 718, \"equity_curve\": 0.7747813723045824}, {\"index\": 719, \"equity_curve\": 0.7531542545711348}, {\"index\": 720, \"equity_curve\": 0.7545156140123459}, {\"index\": 721, \"equity_curve\": 0.7591399123978191}, {\"index\": 722, \"equity_curve\": 0.7561909163409407}, {\"index\": 723, \"equity_curve\": 0.7590377066703766}, {\"index\": 724, \"equity_curve\": 0.7613894966305785}, {\"index\": 725, \"equity_curve\": 0.7866772090009178}, {\"index\": 726, \"equity_curve\": 0.787280318422888}, {\"index\": 727, \"equity_curve\": 0.7677921954214442}, {\"index\": 728, \"equity_curve\": 0.7567615846970035}, {\"index\": 729, \"equity_curve\": 0.7654412211119274}]}}, {\"mode\": \"vega-lite\"});\n",
       "</script>"
      ],
      "text/plain": [
       "alt.Chart(...)"
      ]
     },
     "execution_count": 15,
     "metadata": {},
     "output_type": "execute_result"
    }
   ],
   "source": [
    "research.plot_column(validation_results, 'equity_curve', title='Sliding Window Validation')"
   ]
  }
 ],
 "metadata": {
  "kernelspec": {
   "display_name": "research",
   "language": "python",
   "name": "python3"
  },
  "language_info": {
   "codemirror_mode": {
    "name": "ipython",
    "version": 3
   },
   "file_extension": ".py",
   "mimetype": "text/x-python",
   "name": "python",
   "nbconvert_exporter": "python",
   "pygments_lexer": "ipython3",
   "version": "3.12.12"
  }
 },
 "nbformat": 4,
 "nbformat_minor": 5
}
