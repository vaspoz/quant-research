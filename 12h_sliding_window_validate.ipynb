{
 "cells": [
  {
   "cell_type": "code",
   "execution_count": null,
   "id": "a2d12d68",
   "metadata": {},
   "outputs": [],
   "source": [
    "import polars as pl\n",
    "import numpy as np                          # Numerical computing library\n",
    "from datetime import datetime, timedelta    # Date and time operations\n",
    "from tqdm import tqdm                       # Progress bar\n",
    "import torch                                # PyTorch framework\n",
    "import torch.nn as nn                       # Neural network modules\n",
    "import research                             # Model building and training utilities\n",
    "import binance                              \n",
    "\n",
    "##################################################\n",
    "# Configuration\n",
    "################################################## \n",
    "pl.Config.set_tbl_width_chars(200)\n",
    "pl.Config.set_fmt_str_lengths(100)\n",
    "pl.Config.set_tbl_cols(-1)\n",
    "\n",
    "sym = 'BTCUSDT'\n",
    "time_interval = '12h'\n",
    "max_lags= 4\n",
    "forecast_horizon = 1\n",
    "\n",
    "features = ['close_log_return_lag_1','close_log_return_lag_2','close_log_return_lag_3']\n",
    "target = 'close_log_return'\n",
    "maker_fee = binance.MAKER_FEE\n",
    "taker_fee = binance.TAKER_FEE\n",
    "\n",
    "validation_start_date = datetime(2024, 10, 1, 0, 0)\n",
    "validation_end_date = datetime(2025, 10, 1, 0, 0)\n"
   ]
  },
  {
   "cell_type": "code",
   "execution_count": 5,
   "id": "7ad0a06b",
   "metadata": {},
   "outputs": [],
   "source": [
    "class LinearModel(nn.Module):\n",
    "    def __init__(self, input_features):\n",
    "        super(LinearModel, self).__init__()\n",
    "        self.linear = nn.Linear(input_features, 1)\n",
    "\n",
    "    def forward(self, x):\n",
    "        return self.linear(x)"
   ]
  },
  {
   "cell_type": "code",
   "execution_count": null,
   "id": "35b15f9d",
   "metadata": {},
   "outputs": [
    {
     "name": "stderr",
     "output_type": "stream",
     "text": [
      "Loading BTCUSDT: 100%|██████████| 371/371 [00:20<00:00, 18.18day/s]"
     ]
    },
    {
     "name": "stdout",
     "output_type": "stream",
     "text": [
      "Loaded 737 rows from 2023-10-02 00:00:00 to 2024-10-06 00:00:00\n"
     ]
    },
    {
     "name": "stderr",
     "output_type": "stream",
     "text": [
      "\n"
     ]
    }
   ],
   "source": [
    "# Sliding window parameters\n",
    "training_window_hours = 365 * 24  # Train on 1 year of hourly data\n",
    "step_size_hours = 12  # Retrain every 12 hours (match time_interval)\n",
    "\n",
    "# Load all data once (training window + validation period)\n",
    "all_data_start = validation_start_date - timedelta(hours=training_window_hours)\n",
    "# all_data_end = validation_end_date  # Full validation period # For testing, replace with the next line\n",
    "all_data_end = validation_start_date + timedelta(hours=12 * 10)\n",
    "\n",
    "ts_all = research.load_ohlc_timeseries_range(\n",
    "    sym, \n",
    "    time_interval, \n",
    "    start_date=all_data_start, \n",
    "    end_date=all_data_end\n",
    ")\n",
    "ts_all = research.add_log_return_features(ts_all, 'close', forecast_horizon, max_no_lags=max_lags)\n",
    "ts_all = ts_all.drop_nulls()\n",
    "\n",
    "print(f\"Loaded {len(ts_all)} rows from {all_data_start} to {all_data_end}\")\n"
   ]
  },
  {
   "cell_type": "code",
   "execution_count": null,
   "id": "1a78d474",
   "metadata": {},
   "outputs": [
    {
     "name": "stderr",
     "output_type": "stream",
     "text": [
      "Training & Validating: 100%|██████████| 10/10 [01:04<00:00,  6.45s/iteration, date=2024-10-06, predictions=10]"
     ]
    },
    {
     "name": "stdout",
     "output_type": "stream",
     "text": [
      "\n",
      "✓ Validation complete! Total iterations: 10, Predictions: 10\n"
     ]
    },
    {
     "name": "stderr",
     "output_type": "stream",
     "text": [
      "\n"
     ]
    }
   ],
   "source": [
    "predictions = []\n",
    "actuals = []\n",
    "timestamps = []\n",
    "\n",
    "# Iterate through validation period with sliding window\n",
    "current_date = validation_start_date\n",
    "iteration_count = 0\n",
    "\n",
    "# Calculate total iterations and create progress bar\n",
    "total_iterations = int((all_data_end - validation_start_date).total_seconds() / (step_size_hours * 3600))\n",
    "pbar = tqdm(total=total_iterations, desc=\"Training & Validating\", unit=\"iteration\")\n",
    "\n",
    "def retrain_model(ts_train):\n",
    "    model = LinearModel(len(features))\n",
    "    research.learn_model_trades(\n",
    "        ts_train, \n",
    "        features, \n",
    "        target, \n",
    "        model, \n",
    "        test_size=0.01,  # Minimal test split since we're validating separately\n",
    "        loss=nn.L1Loss(),\n",
    "        no_epochs=5000,\n",
    "        log=False\n",
    "    )\n",
    "    return model\n",
    "\n",
    "\n",
    "while current_date < all_data_end:\n",
    "    iteration_count += 1\n",
    "    # Define training sliding window\n",
    "    train_start = current_date - timedelta(hours=training_window_hours)\n",
    "    train_end = current_date\n",
    "    \n",
    "    # Slice training data from pre-loaded timeseries\n",
    "    ts_train = ts_all.filter(\n",
    "        (pl.col('datetime') >= train_start) & \n",
    "        (pl.col('datetime') < train_end)\n",
    "    )\n",
    "    \n",
    "    model = retrain_model(ts_train)\n",
    "\n",
    "    # Make prediction for next time step from pre-loaded data (ts_point is a single-row DataFrame)\n",
    "    ts_point = ts_all.filter(pl.col('datetime') == current_date)\n",
    "\n",
    "    X_pred = torch.tensor(ts_point[features].to_numpy(), dtype=torch.float32)\n",
    "    \n",
    "    model.eval()\n",
    "    with torch.no_grad():\n",
    "        y_hat = model(X_pred)\n",
    "    \n",
    "    # These we will use to build up the dataframe of results\n",
    "    predictions.append(y_hat.item())\n",
    "    actuals.append(ts_point[target].item())\n",
    "    timestamps.append(current_date)\n",
    "    \n",
    "    # Move window forward\n",
    "    current_date += timedelta(hours=step_size_hours)\n",
    "    \n",
    "    # Update progress bar\n",
    "    pbar.update(1)\n",
    "    pbar.set_postfix({\n",
    "        'date': current_date.strftime('%Y-%m-%d'),\n",
    "        'predictions': len(predictions)\n",
    "    })\n",
    "\n",
    "pbar.close()"
   ]
  },
  {
   "cell_type": "code",
   "execution_count": null,
   "id": "3e856ae1",
   "metadata": {},
   "outputs": [],
   "source": [
    "# Create results DataFrame with trade metrics\n",
    "validation_results = pl.DataFrame({\n",
    "    'timestamp': timestamps,\n",
    "    'y': actuals,\n",
    "    'y_hat': predictions\n",
    "}).with_columns(\n",
    "    (pl.col('y_hat').sign()==pl.col('y').sign()).alias('is_won'),\n",
    "    pl.col('y_hat').sign().alias('signal'),\n",
    ").with_columns(\n",
    "    (pl.col('signal') * pl.col('y')).alias('trade_log_return')\n",
    ").with_columns(\n",
    "    pl.col('trade_log_return').cum_sum().alias('equity_curve')\n",
    ")\n",
    "\n",
    "# Add transaction fees\n",
    "validation_results = research.add_tx_fees_log(validation_results, maker_fee, taker_fee)"
   ]
  },
  {
   "cell_type": "code",
   "execution_count": 9,
   "id": "be246f4b",
   "metadata": {},
   "outputs": [
    {
     "data": {
      "text/html": [
       "\n",
       "<style>\n",
       "  #altair-viz-fce7df19d2ab4414afd2f5aa48be2c23.vega-embed {\n",
       "    width: 100%;\n",
       "    display: flex;\n",
       "  }\n",
       "\n",
       "  #altair-viz-fce7df19d2ab4414afd2f5aa48be2c23.vega-embed details,\n",
       "  #altair-viz-fce7df19d2ab4414afd2f5aa48be2c23.vega-embed details summary {\n",
       "    position: relative;\n",
       "  }\n",
       "</style>\n",
       "<div id=\"altair-viz-fce7df19d2ab4414afd2f5aa48be2c23\"></div>\n",
       "<script type=\"text/javascript\">\n",
       "  var VEGA_DEBUG = (typeof VEGA_DEBUG == \"undefined\") ? {} : VEGA_DEBUG;\n",
       "  (function(spec, embedOpt){\n",
       "    let outputDiv = document.currentScript.previousElementSibling;\n",
       "    if (outputDiv.id !== \"altair-viz-fce7df19d2ab4414afd2f5aa48be2c23\") {\n",
       "      outputDiv = document.getElementById(\"altair-viz-fce7df19d2ab4414afd2f5aa48be2c23\");\n",
       "    }\n",
       "\n",
       "    const paths = {\n",
       "      \"vega\": \"https://cdn.jsdelivr.net/npm/vega@5?noext\",\n",
       "      \"vega-lib\": \"https://cdn.jsdelivr.net/npm/vega-lib?noext\",\n",
       "      \"vega-lite\": \"https://cdn.jsdelivr.net/npm/vega-lite@5.20.1?noext\",\n",
       "      \"vega-embed\": \"https://cdn.jsdelivr.net/npm/vega-embed@6?noext\",\n",
       "    };\n",
       "\n",
       "    function maybeLoadScript(lib, version) {\n",
       "      var key = `${lib.replace(\"-\", \"\")}_version`;\n",
       "      return (VEGA_DEBUG[key] == version) ?\n",
       "        Promise.resolve(paths[lib]) :\n",
       "        new Promise(function(resolve, reject) {\n",
       "          var s = document.createElement('script');\n",
       "          document.getElementsByTagName(\"head\")[0].appendChild(s);\n",
       "          s.async = true;\n",
       "          s.onload = () => {\n",
       "            VEGA_DEBUG[key] = version;\n",
       "            return resolve(paths[lib]);\n",
       "          };\n",
       "          s.onerror = () => reject(`Error loading script: ${paths[lib]}`);\n",
       "          s.src = paths[lib];\n",
       "        });\n",
       "    }\n",
       "\n",
       "    function showError(err) {\n",
       "      outputDiv.innerHTML = `<div class=\"error\" style=\"color:red;\">${err}</div>`;\n",
       "      throw err;\n",
       "    }\n",
       "\n",
       "    function displayChart(vegaEmbed) {\n",
       "      vegaEmbed(outputDiv, spec, embedOpt)\n",
       "        .catch(err => showError(`Javascript Error: ${err.message}<br>This usually means there's a typo in your chart specification. See the javascript console for the full traceback.`));\n",
       "    }\n",
       "\n",
       "    if(typeof define === \"function\" && define.amd) {\n",
       "      requirejs.config({paths});\n",
       "      let deps = [\"vega-embed\"];\n",
       "      require(deps, displayChart, err => showError(`Error loading script: ${err.message}`));\n",
       "    } else {\n",
       "      maybeLoadScript(\"vega\", \"5\")\n",
       "        .then(() => maybeLoadScript(\"vega-lite\", \"5.20.1\"))\n",
       "        .then(() => maybeLoadScript(\"vega-embed\", \"6\"))\n",
       "        .catch(showError)\n",
       "        .then(() => displayChart(vegaEmbed));\n",
       "    }\n",
       "  })({\"config\": {\"view\": {\"continuousWidth\": 300, \"continuousHeight\": 300}}, \"data\": {\"name\": \"data-dd0c6f0cb5ecd95ee4c5a91a882b00ff\"}, \"mark\": {\"type\": \"line\", \"tooltip\": true}, \"encoding\": {\"x\": {\"field\": \"index\", \"type\": \"quantitative\"}, \"y\": {\"field\": \"equity_curve\", \"type\": \"quantitative\"}}, \"height\": 400, \"params\": [{\"name\": \"param_1\", \"select\": {\"type\": \"interval\", \"encodings\": [\"x\", \"y\"]}, \"bind\": \"scales\"}], \"title\": \"Sliding Window Validation\", \"width\": 800, \"$schema\": \"https://vega.github.io/schema/vega-lite/v5.20.1.json\", \"datasets\": {\"data-dd0c6f0cb5ecd95ee4c5a91a882b00ff\": [{\"index\": 0, \"equity_curve\": 0.006153914026884984}, {\"index\": 1, \"equity_curve\": -0.04082094148630622}, {\"index\": 2, \"equity_curve\": -0.03484967759061836}, {\"index\": 3, \"equity_curve\": -0.043361317846117436}, {\"index\": 4, \"equity_curve\": -0.04154187102280549}, {\"index\": 5, \"equity_curve\": -0.04163737555852026}, {\"index\": 6, \"equity_curve\": -0.03024472084669446}, {\"index\": 7, \"equity_curve\": -0.020017658998702996}, {\"index\": 8, \"equity_curve\": -0.021542576063858985}, {\"index\": 9, \"equity_curve\": -0.01951313560543756}]}}, {\"mode\": \"vega-lite\"});\n",
       "</script>"
      ],
      "text/plain": [
       "alt.Chart(...)"
      ]
     },
     "execution_count": 9,
     "metadata": {},
     "output_type": "execute_result"
    }
   ],
   "source": [
    "research.plot_column(validation_results, 'equity_curve', title='Sliding Window Validation')"
   ]
  }
 ],
 "metadata": {
  "kernelspec": {
   "display_name": "research",
   "language": "python",
   "name": "python3"
  },
  "language_info": {
   "codemirror_mode": {
    "name": "ipython",
    "version": 3
   },
   "file_extension": ".py",
   "mimetype": "text/x-python",
   "name": "python",
   "nbconvert_exporter": "python",
   "pygments_lexer": "ipython3",
   "version": "3.12.12"
  }
 },
 "nbformat": 4,
 "nbformat_minor": 5
}
